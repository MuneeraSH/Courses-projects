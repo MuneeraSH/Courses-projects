{
 "cells": [
  {
   "cell_type": "code",
   "execution_count": 25,
   "metadata": {},
   "outputs": [],
   "source": [
    "import requests\n",
    "from bs4 import BeautifulSoup\n",
    "import pandas as pd\n",
    "import numpy as np\n",
    "import time\n",
    "import matplotlib.pyplot as plot\n",
    "import seaborn as sns\n"
   ]
  },
  {
   "cell_type": "code",
   "execution_count": 26,
   "metadata": {},
   "outputs": [],
   "source": [
    "def get_source(url):\n",
    "    header = {\n",
    "        'user-agent': \"Mozilla/5.0 (Windows NT 10.0; Win64; x64) AppleWebKit/537.36 (KHTML, like Gecko) Chrome/86.0.4240.183 Safari/537.36\"\n",
    "    } \n",
    "\n",
    "    r = requests.get(url, headers=header)\n",
    "    soup = BeautifulSoup(r.text, 'html.parser')\n",
    "    try:\n",
    "        category = soup.find(\"ol\", {'class': 'bc-breadcrumb__list'}).text.replace(\"\\n\\n\\n\", \"/\").replace(\"\\n\", \"\")\n",
    "    except:\n",
    "        category = \"No on the page\"\n",
    "    try:\n",
    "        name = soup.find(\"div\", {'class': 'range-revamp-header-section__title--big'}).text\n",
    "    except:\n",
    "        name = \"No on the page\"\n",
    "    try:\n",
    "        price = soup.find(\"span\", {'class': 'range-revamp-price__integer'}).text \n",
    "    except:\n",
    "        price = \"No on the page\"\n",
    "    try:\n",
    "        description = soup.find(\"p\").text.replace(\",\", \"\")\n",
    "    except:\n",
    "        description = \"No on the page\"\n",
    "\n",
    "    try:\n",
    "        measurement = soup.find(\"div\", {'class': 'range-revamp-product-dimensions'}).text.replace(\"Product size\",\n",
    "                                                                                                  \"\").replace(\"cm\",\n",
    "                                                                                                              \"cm / \")\n",
    "    except:\n",
    "        measurement = \"No on the page\"\n",
    "    try:\n",
    "        SKU = soup.find(\"span\", {'class': 'range-revamp-product-identifier__number'}).text\n",
    "    except:\n",
    "        SKU = \"No on the page\"\n",
    "\n",
    "    final_write = category.replace(\",\",\"\") + \",\" + name.replace(\",\",\"\") + \",\" + price.replace(\",\",\"\") + \",\" + description.replace(\",\",\"\") + \",\" + measurement.replace(\",\",\"\") + \",\" + SKU + \"\\n\"\n",
    "    write_to_csv.write(final_write)\n",
    "    print(final_write)"
   ]
  },
  {
   "cell_type": "code",
   "execution_count": null,
   "metadata": {},
   "outputs": [
    {
     "name": "stdout",
     "output_type": "stream",
     "text": [
      "Products/Furniture/Beds/Children's beds/Junior & extendable beds/MINNEN Ext bed frame with slatted bed base,MINNEN,433,This extendable bed grows as your child grows – without lightening your wallet. Every detail is made with care and the timeless look is easy to match with other furniture.,Min. length: 135 cm / Max. length: 206 cm / Width: 85 cm / Footboard height: 72 cm / Headboard height: 92 cm / Free height under furniture: 23 cm / Max. load: 100 kgMattress length: 200 cm / Mattress width: 80 cm / ,291.239.58\n",
      "\n",
      "Products/Furniture/Beds/Children's beds/Junior & extendable beds/MINNEN Ext bed frame with slatted bed base,MINNEN,433,This extendable bed grows as your child grows – without lightening your wallet. Every detail is made with care and the timeless look is easy to match with other furniture.,Min. length: 135 cm / Max. length: 206 cm / Width: 85 cm / Footboard height: 72 cm / Headboard height: 92 cm / Free height under furniture: 23 cm / Max. load: 100 kgMattress length: 200 cm / Mattress width: 80 cm / ,693.237.57\n",
      "\n",
      "Products/Furniture/Beds/Children's beds/Junior & extendable beds/KRITTER Bed frame with slatted bed base,KRITTER,400,Anna Efverlund/IKEA of Sweden,Length: 165 cm / Width: 75 cm / Footboard height: 48 cm / Headboard height: 68 cm / Free height under furniture: 22 cm / Max. load: 100 kgMattress length: 160 cm / Mattress width: 70 cm / ,691.854.35\n",
      "\n",
      "Products/Furniture/Beds/Children's beds/Junior & extendable beds/BUSUNGE Extendable bed,BUSUNGE,879,Playful design in strong materials with durable surfaces and soft rounded corners. It’s also extendable so that it grows with your child. A bed made for a cheeky child or BUSUNGE as they say in Sweden.,Min. length: 138 cm / Max. length: 208 cm / Width: 90 cm / Headboard height: 100 cm / Max. load: 100 kgMattress length: 200 cm / Mattress width: 80 cm / ,703.057.00\n",
      "\n",
      "Products/Furniture/Beds/Cots/SNIGLAR Cot,SNIGLAR,323,Your baby sleeps safely and comfortably in this cot. Made from solid beech – a hardwearing durable and renewable natural material that is both good for your wallet and the planet.,Length: 124 cm / Width: 66 cm / Height: 80 cm / Bed width: 60 cm / Bed length: 120 cm / Max. load: 20 kg,302.485.37\n",
      "\n",
      "Products/Furniture/Beds/Cots/SMÅGÖRA Cot,SMÅGÖRA,656,Timeless design bevelled edges and soft rounded corners. Just as safe and secure as all of our other cots – just a little nicer to your wallet.,Length: 124 cm / Width: 66 cm / Height: 79 cm / Bed width: 60 cm / Bed length: 120 cm / Max. load: 20 kgDistance between spindles: 55 cm / ,504.612.30\n",
      "\n",
      "Products/Furniture/Beds/Cots/SUNDVIK Cot,SUNDVIK,769,Your baby can sleep for a long time in this cot. With a timeless style durable materials and details made with care you can also lower the bottom and remove one of the long sides as the child grows.,Length: 125 cm / Width: 67 cm / Height: 85 cm / Bed width: 60 cm / Bed length: 120 cm / Max. load: 20 kg,002.485.67\n",
      "\n",
      "Products/Furniture/Beds/Cots/GULLIVER Cot,GULLIVER,659,A timeless cot with practical features that allows your baby to sleep safely until it's time for a \"real\" bed. As the baby grows you can actually move the bottom down and remove one of the long sides.,Length: 123 cm / Width: 66 cm / Height: 80 cm / Bed width: 60 cm / Bed length: 120 cm / Max. load: 20 kg,102.485.19\n",
      "\n",
      "Products/Furniture/Beds/Single beds/KURA Reversible bed,KURA,816,This low bed is perfect for younger children but also grows with them. You can turn it upside down when your child gets older – creating a play corner in no time with space for play and cosy times.,Length: 209 cm / Width: 99 cm / Height: 116 cm / Height under loft bed: 83 cm / Max. load: 100 kgMattress length: 200 cm / Mattress width: 90 cm / Max. thickness mattress: 12 cm / ,802.538.09\n",
      "\n",
      "Products/Furniture/Beds/Children's beds/Junior & extendable beds/VIKARE Guard rail,VIKARE,110,IKEA of Sweden,Length: 90 cm / Height: 7.5 cm / ,300.992.93\n",
      "\n",
      "Products/Furniture/Beds/Children's beds/Junior & extendable beds/SUNDVIK Ext bed frame with slatted bed base,SUNDVIK,930,The style is timeless the materials are durable and the details are made with care. The bed can also be extended as your child grows. There is room here for many beautiful dreams – and generations.,Min. length: 137 cm / Max. length: 207 cm / Height: 80 cm / Bed width: 91 cm / Max. load: 100 kgMattress length: 200 cm / Mattress width: 80 cm / ,490.460.68\n",
      "\n",
      "Products/Furniture/Beds/Children's beds/Junior & extendable beds/BUSUNGE Extendable bed,BUSUNGE,871,Playful design in strong materials with durable surfaces and soft rounded corners. It’s also extendable so that it grows with your child. A bed made for a cheeky child or BUSUNGE as they say in Sweden.,Min. length: 138 cm / Max. length: 208 cm / Width: 90 cm / Headboard height: 100 cm / Max. load: 100 kgMattress length: 200 cm / Mattress width: 80 cm / ,902.290.17\n",
      "\n",
      "Products/Furniture/Beds/Children's beds/Bunk beds/TUFFING Bunk bed frame,TUFFING,525,It has passed the same strict safety tests as all our other bunk beds. To bring the price down we just used other materials and made the bed lower. It came out pretty cool!,Max. weight/sleeping level: 100 kgLength: 207 cm / Width: 96.5 cm / Height: 130.5 cm / Free height under furniture: 14.5 cm / Mattress length: 200 cm / Mattress width: 90 cm / Distance between beds: 86 cm / Max. thickness mattress: 11 cm / ,002.392.33\n",
      "\n",
      "Products/Furniture/Beds/Children's beds/Junior & extendable beds/SLÄKT Ext bed frame with slatted bed base,SLÄKT,588,A bed that grows with your child – in length and in style. You can easily extend the bed and replace the headboard when you want to change the look. A dream for you your child and your wallet.,Free height under bed: 22 cm / Min. length: 135 cm / Max. length: 205 cm / Width: 91 cm / Footboard height: 45 cm / Headboard height: 71 cm / Max. load: 100 kgMattress length: 200 cm / Mattress width: 80 cm / ,193.264.28\n",
      "\n",
      "Products/Furniture/Children's furniture/Small chairs/SLÄKT Pouffe/mattress foldable,SLÄKT,470,Kids love being on a soft mattress on the floor – this one is great for tumbling lounging or hanging out with friends. When it’s time to tidy up just fold it and tuck it away under SLÄKT bed.,Folded depth: 48 cm / Folded height: 36 cm / Length: 193 cm / Width: 62 cm / Thickness: 9 cm / ,103.629.63\n",
      "\n",
      "Products/Furniture/Beds/Children's beds/Junior & extendable beds/SUNDVIK Ext bed frame with slatted bed base,SUNDVIK,930,The style is timeless the materials are durable and the details are made with care. The bed can also be extended as your child grows. There is room here for many beautiful dreams – and generations.,Min. length: 137 cm / Max. length: 207 cm / Height: 80 cm / Bed width: 91 cm / Max. load: 100 kgMattress length: 200 cm / Mattress width: 80 cm / ,390.416.60\n",
      "\n",
      "Products/Furniture/Beds/Loft beds & bunk beds/Loft beds/STUVA Loft bed combo w 2 shlvs/3 shlvs,STUVA,1865,An extra room isn’t always an option when space is limited at home. But there are other solutions. Here’s room for sleeping studying storing playing and chilling that only takes up 2m2 of space.,Desk length: 155 cm / Desk width: 62 cm / Desk height: 74 cm / Height: 182 cm / Height under loft bed: 142 cm / Bed width: 99 cm / Bed length: 207 cm / Max. load: 100 kgMattress length: 200 cm / Mattress width: 90 cm / Max. thickness mattress: 20 cm / ,192.687.63\n",
      "\n",
      "Products/Furniture/Beds/Children's beds/Children's bed accessories & canopies/KURA Bed tent,KURA,145,With the KURA bed tent you can create a cosy sleeping nook in KURA reversible bed. Who knows maybe it can make the bed so inviting that your child goes to bed without any fuss at all?,Length: 160 cm / Width: 97 cm / Height: 68 cm / ,402.965.99\n",
      "\n",
      "Products/Furniture/Beds/Single beds/SLÄKT Bed frame with slatted bed base,SLÄKT,416,This bed frame is very versatile. Combine it with an underbed with storage underneath or with different modules to create extra storage space or a comfy place for hanging out with friends.,Length: 206 cm / Width: 96 cm / Footboard height: 56 cm / Headboard height: 78 cm / Free height under furniture: 36 cm / Max. load: 100 kgMattress length: 200 cm / Mattress width: 90 cm / ,792.277.55\n",
      "\n",
      "Products/Furniture/Beds/Children's beds/Bunk beds/SVÄRTA Bunk bed frame,SVÄRTA,995,Room for two on the same floor space as one. Bunk beds give you more space for play – and for the friend who wants to sleep over.,Max. weight/sleeping level: 100 kgLength: 208 cm / Width: 97 cm / Height: 159 cm / Mattress length: 200 cm / Mattress width: 90 cm / Max. thickness mattress: 22 cm / ,102.479.73\n",
      "\n"
     ]
    },
    {
     "name": "stdout",
     "output_type": "stream",
     "text": [
      "Products/Furniture/Beds/Children's beds/Children's bed accessories & canopies/KURA Bed tent,KURA,163,Under this bed tent your child sleeps snug with an entire world of exciting dinosaurs around them. Big tough friends who guard and protect against monsters and other dangers lurking in the dark.,Length: 165 cm / Width: 97 cm / Height: 68 cm / ,204.642.11\n",
      "\n",
      "Products/Furniture/Beds/Single beds/SLÄKT Bed frame w storage+slatted bedbase,SLÄKT,1533,A teenager's dream. A nice bed with lots of storage which swallows up everything from t-shirts to hobby things and not least dirty laundry. Everything in a small space and at a comfortable distance.,Shelf width: 42 cm / Shelf depth: 35 cm / Height of drawer (inside): 14 cm / Length: 206 cm / Width: 96 cm / Width of drawer (inside): 72 cm / Depth of drawer (inside): 57 cm / Footboard height: 71 cm / Headboard height: 91 cm / Max. load: 100 kgMax. load/drawer: 15 kgMattress length: 200 cm / Mattress width: 90 cm / ,292.919.56\n",
      "\n",
      "Products/Furniture/Beds/Children's beds/Children's single beds/SLÄKT Underbed with storage,SLÄKT,680,Perfect when your child wants you close by or when a friend is sleeping over. When the morning comes simply roll it back under SLÄKT bed.,Length: 201 cm / Width: 95 cm / Height: 45 cm / Width of drawer (inside): 91 cm / Depth of drawer (inside): 57 cm / Max. load: 100 kgMattress length: 200 cm / Mattress width: 90 cm / ,992.394.51\n",
      "\n",
      "Products/Furniture/Beds/Children's beds/Children's bed accessories & canopies/SUFFLETT Bed tent,SUFFLETT,89,With this bed tent you can quickly and easily create a cosy secluded part of your child's bed – regardless if it’s 70 80 or 90 cm wide. Nice to crawl under to read rest or sleep.,Height: 80 cm / ,803.324.68\n",
      "\n",
      "Products/Beds & mattresses/Bed slats/LURÖY Slatted bed base,LURÖY,110,Meant for each other - not only do the slats keep your mattress in place they also increase the suppleness of the mattress and your sleeping comfort.,Length: 200 cm / Width: 80 cm / Height: 4 cm / Mattress length: 200 cm / Mattress width: 80 cm / ,301.602.09\n",
      "\n",
      "Products/Furniture/Beds/Children's beds/Children's single beds/SLÄKT Bed frame with 3 storage boxes,SLÄKT,1403,Bed with a clean design and 3 spacious storage boxes on castors that you can move as needed and also use as tables. All with a timeless look that can follow your child from toddler years to adulthood.,Length: 206 cm / Width: 96 cm / Headboard height: 78 cm / Footboard height: 56 cm / Free height under bed: 36 cm / Max. load: 100 kgMattress width: 90 cm / Mattress length: 200 cm / Width of drawer (inside): 52 cm / Depth of drawer (inside): 53 cm / Length storage box: 62 cm / Width storage box: 62 cm / Height storage box: 35 cm / ,893.860.70\n",
      "\n",
      "Products/Furniture/Beds/Children's beds/Children's bed accessories & canopies/KURA Bed tent,KURA,145,With the KURA bed tent you can create a cosy sleeping nook in KURA reversible bed. Who knows maybe it can make the bed so inviting that your child goes to bed without any fuss at all?,Length: 160 cm / Width: 97 cm / Height: 68 cm / ,103.112.28\n",
      "\n",
      "Products/Furniture/Beds/Children's beds/Junior & extendable beds/SLÄKT Ext bed frame with slatted bed base,SLÄKT,602,A bed that grows with your child – in length and in style. You can easily extend the bed and replace the headboard when you want to change the look. A dream for you your child and your wallet.,Free height under bed: 22 cm / Min. length: 135 cm / Max. length: 205 cm / Width: 91 cm / Footboard height: 45 cm / Headboard height: 71 cm / Max. load: 100 kgMattress length: 200 cm / Mattress width: 80 cm / ,693.266.09\n",
      "\n",
      "Products/Furniture/Beds/Children's beds/Junior & extendable beds/MINNEN Ext bed frame with slatted bed base,MINNEN,433,This extendable bed grows as your child grows – without lightening your wallet. Every detail is made with care and the timeless look is easy to match with other furniture.,Min. length: 135 cm / Max. length: 206 cm / Width: 85 cm / Footboard height: 72 cm / Headboard height: 92 cm / Free height under furniture: 23 cm / Max. load: 100 kgMattress length: 200 cm / Mattress width: 80 cm / ,291.239.58\n",
      "\n",
      "Products/Furniture/Beds/Children's beds/Junior & extendable beds/MINNEN Ext bed frame with slatted bed base,MINNEN,433,This extendable bed grows as your child grows – without lightening your wallet. Every detail is made with care and the timeless look is easy to match with other furniture.,Min. length: 135 cm / Max. length: 206 cm / Width: 85 cm / Footboard height: 72 cm / Headboard height: 92 cm / Free height under furniture: 23 cm / Max. load: 100 kgMattress length: 200 cm / Mattress width: 80 cm / ,693.237.57\n",
      "\n",
      "Products/Furniture/Beds/Children's beds/Junior & extendable beds/KRITTER Bed frame with slatted bed base,KRITTER,400,Anna Efverlund/IKEA of Sweden,Length: 165 cm / Width: 75 cm / Footboard height: 48 cm / Headboard height: 68 cm / Free height under furniture: 22 cm / Max. load: 100 kgMattress length: 160 cm / Mattress width: 70 cm / ,691.854.35\n",
      "\n",
      "Products/Furniture/Beds/Children's beds/Junior & extendable beds/BUSUNGE Extendable bed,BUSUNGE,879,Playful design in strong materials with durable surfaces and soft rounded corners. It’s also extendable so that it grows with your child. A bed made for a cheeky child or BUSUNGE as they say in Sweden.,Min. length: 138 cm / Max. length: 208 cm / Width: 90 cm / Headboard height: 100 cm / Max. load: 100 kgMattress length: 200 cm / Mattress width: 80 cm / ,703.057.00\n",
      "\n",
      "Products/Furniture/Beds/Single beds/KURA Reversible bed,KURA,816,This low bed is perfect for younger children but also grows with them. You can turn it upside down when your child gets older – creating a play corner in no time with space for play and cosy times.,Length: 209 cm / Width: 99 cm / Height: 116 cm / Height under loft bed: 83 cm / Max. load: 100 kgMattress length: 200 cm / Mattress width: 90 cm / Max. thickness mattress: 12 cm / ,802.538.09\n",
      "\n",
      "Products/Furniture/Beds/Children's beds/Junior & extendable beds/VIKARE Guard rail,VIKARE,110,IKEA of Sweden,Length: 90 cm / Height: 7.5 cm / ,300.992.93\n",
      "\n",
      "Products/Furniture/Beds/Children's beds/Junior & extendable beds/SUNDVIK Ext bed frame with slatted bed base,SUNDVIK,930,The style is timeless the materials are durable and the details are made with care. The bed can also be extended as your child grows. There is room here for many beautiful dreams – and generations.,Min. length: 137 cm / Max. length: 207 cm / Height: 80 cm / Bed width: 91 cm / Max. load: 100 kgMattress length: 200 cm / Mattress width: 80 cm / ,490.460.68\n",
      "\n",
      "Products/Furniture/Beds/Children's beds/Junior & extendable beds/BUSUNGE Extendable bed,BUSUNGE,871,Playful design in strong materials with durable surfaces and soft rounded corners. It’s also extendable so that it grows with your child. A bed made for a cheeky child or BUSUNGE as they say in Sweden.,Min. length: 138 cm / Max. length: 208 cm / Width: 90 cm / Headboard height: 100 cm / Max. load: 100 kgMattress length: 200 cm / Mattress width: 80 cm / ,902.290.17\n",
      "\n",
      "Products/Furniture/Beds/Children's beds/Bunk beds/TUFFING Bunk bed frame,TUFFING,525,It has passed the same strict safety tests as all our other bunk beds. To bring the price down we just used other materials and made the bed lower. It came out pretty cool!,Max. weight/sleeping level: 100 kgLength: 207 cm / Width: 96.5 cm / Height: 130.5 cm / Free height under furniture: 14.5 cm / Mattress length: 200 cm / Mattress width: 90 cm / Distance between beds: 86 cm / Max. thickness mattress: 11 cm / ,002.392.33\n",
      "\n",
      "Products/Furniture/Beds/Children's beds/Junior & extendable beds/SLÄKT Ext bed frame with slatted bed base,SLÄKT,588,A bed that grows with your child – in length and in style. You can easily extend the bed and replace the headboard when you want to change the look. A dream for you your child and your wallet.,Free height under bed: 22 cm / Min. length: 135 cm / Max. length: 205 cm / Width: 91 cm / Footboard height: 45 cm / Headboard height: 71 cm / Max. load: 100 kgMattress length: 200 cm / Mattress width: 80 cm / ,193.264.28\n",
      "\n",
      "Products/Furniture/Children's furniture/Small chairs/SLÄKT Pouffe/mattress foldable,SLÄKT,470,Kids love being on a soft mattress on the floor – this one is great for tumbling lounging or hanging out with friends. When it’s time to tidy up just fold it and tuck it away under SLÄKT bed.,Folded depth: 48 cm / Folded height: 36 cm / Length: 193 cm / Width: 62 cm / Thickness: 9 cm / ,103.629.63\n",
      "\n"
     ]
    },
    {
     "name": "stdout",
     "output_type": "stream",
     "text": [
      "Products/Furniture/Beds/Children's beds/Junior & extendable beds/SUNDVIK Ext bed frame with slatted bed base,SUNDVIK,930,The style is timeless the materials are durable and the details are made with care. The bed can also be extended as your child grows. There is room here for many beautiful dreams – and generations.,Min. length: 137 cm / Max. length: 207 cm / Height: 80 cm / Bed width: 91 cm / Max. load: 100 kgMattress length: 200 cm / Mattress width: 80 cm / ,390.416.60\n",
      "\n",
      "Products/Furniture/Beds/Loft beds & bunk beds/Loft beds/STUVA Loft bed combo w 2 shlvs/3 shlvs,STUVA,1865,An extra room isn’t always an option when space is limited at home. But there are other solutions. Here’s room for sleeping studying storing playing and chilling that only takes up 2m2 of space.,Desk length: 155 cm / Desk width: 62 cm / Desk height: 74 cm / Height: 182 cm / Height under loft bed: 142 cm / Bed width: 99 cm / Bed length: 207 cm / Max. load: 100 kgMattress length: 200 cm / Mattress width: 90 cm / Max. thickness mattress: 20 cm / ,192.687.63\n",
      "\n",
      "Products/Furniture/Beds/Children's beds/Children's bed accessories & canopies/KURA Bed tent,KURA,145,With the KURA bed tent you can create a cosy sleeping nook in KURA reversible bed. Who knows maybe it can make the bed so inviting that your child goes to bed without any fuss at all?,Length: 160 cm / Width: 97 cm / Height: 68 cm / ,402.965.99\n",
      "\n",
      "Products/Furniture/Beds/Single beds/SLÄKT Bed frame with slatted bed base,SLÄKT,416,This bed frame is very versatile. Combine it with an underbed with storage underneath or with different modules to create extra storage space or a comfy place for hanging out with friends.,Length: 206 cm / Width: 96 cm / Footboard height: 56 cm / Headboard height: 78 cm / Free height under furniture: 36 cm / Max. load: 100 kgMattress length: 200 cm / Mattress width: 90 cm / ,792.277.55\n",
      "\n",
      "Products/Furniture/Beds/Children's beds/Bunk beds/SVÄRTA Bunk bed frame,SVÄRTA,995,Room for two on the same floor space as one. Bunk beds give you more space for play – and for the friend who wants to sleep over.,Max. weight/sleeping level: 100 kgLength: 208 cm / Width: 97 cm / Height: 159 cm / Mattress length: 200 cm / Mattress width: 90 cm / Max. thickness mattress: 22 cm / ,102.479.73\n",
      "\n",
      "Products/Furniture/Beds/Children's beds/Children's bed accessories & canopies/KURA Bed tent,KURA,163,Under this bed tent your child sleeps snug with an entire world of exciting dinosaurs around them. Big tough friends who guard and protect against monsters and other dangers lurking in the dark.,Length: 165 cm / Width: 97 cm / Height: 68 cm / ,204.642.11\n",
      "\n",
      "Products/Furniture/Beds/Single beds/SLÄKT Bed frame w storage+slatted bedbase,SLÄKT,1533,A teenager's dream. A nice bed with lots of storage which swallows up everything from t-shirts to hobby things and not least dirty laundry. Everything in a small space and at a comfortable distance.,Shelf width: 42 cm / Shelf depth: 35 cm / Height of drawer (inside): 14 cm / Length: 206 cm / Width: 96 cm / Width of drawer (inside): 72 cm / Depth of drawer (inside): 57 cm / Footboard height: 71 cm / Headboard height: 91 cm / Max. load: 100 kgMax. load/drawer: 15 kgMattress length: 200 cm / Mattress width: 90 cm / ,292.919.56\n",
      "\n",
      "Products/Furniture/Beds/Children's beds/Children's single beds/SLÄKT Underbed with storage,SLÄKT,680,Perfect when your child wants you close by or when a friend is sleeping over. When the morning comes simply roll it back under SLÄKT bed.,Length: 201 cm / Width: 95 cm / Height: 45 cm / Width of drawer (inside): 91 cm / Depth of drawer (inside): 57 cm / Max. load: 100 kgMattress length: 200 cm / Mattress width: 90 cm / ,992.394.51\n",
      "\n",
      "Products/Furniture/Beds/Children's beds/Children's bed accessories & canopies/SUFFLETT Bed tent,SUFFLETT,89,With this bed tent you can quickly and easily create a cosy secluded part of your child's bed – regardless if it’s 70 80 or 90 cm wide. Nice to crawl under to read rest or sleep.,Height: 80 cm / ,803.324.68\n",
      "\n",
      "Products/Beds & mattresses/Bed slats/LURÖY Slatted bed base,LURÖY,110,Meant for each other - not only do the slats keep your mattress in place they also increase the suppleness of the mattress and your sleeping comfort.,Length: 200 cm / Width: 80 cm / Height: 4 cm / Mattress length: 200 cm / Mattress width: 80 cm / ,301.602.09\n",
      "\n",
      "Products/Furniture/Beds/Children's beds/Children's single beds/SLÄKT Bed frame with 3 storage boxes,SLÄKT,1403,Bed with a clean design and 3 spacious storage boxes on castors that you can move as needed and also use as tables. All with a timeless look that can follow your child from toddler years to adulthood.,Length: 206 cm / Width: 96 cm / Headboard height: 78 cm / Footboard height: 56 cm / Free height under bed: 36 cm / Max. load: 100 kgMattress width: 90 cm / Mattress length: 200 cm / Width of drawer (inside): 52 cm / Depth of drawer (inside): 53 cm / Length storage box: 62 cm / Width storage box: 62 cm / Height storage box: 35 cm / ,893.860.70\n",
      "\n",
      "Products/Furniture/Beds/Children's beds/Children's bed accessories & canopies/KURA Bed tent,KURA,145,With the KURA bed tent you can create a cosy sleeping nook in KURA reversible bed. Who knows maybe it can make the bed so inviting that your child goes to bed without any fuss at all?,Length: 160 cm / Width: 97 cm / Height: 68 cm / ,103.112.28\n",
      "\n",
      "Products/Furniture/Beds/Children's beds/Junior & extendable beds/SLÄKT Ext bed frame with slatted bed base,SLÄKT,602,A bed that grows with your child – in length and in style. You can easily extend the bed and replace the headboard when you want to change the look. A dream for you your child and your wallet.,Free height under bed: 22 cm / Min. length: 135 cm / Max. length: 205 cm / Width: 91 cm / Footboard height: 45 cm / Headboard height: 71 cm / Max. load: 100 kgMattress length: 200 cm / Mattress width: 80 cm / ,693.266.09\n",
      "\n",
      "Products/Furniture/Beds/Single beds/NEIDEN Bed frame,NEIDEN,163,The natural solid wood is beautiful as it is or you can make it more personal by staining painting or waxing it. Also the bed frame is high enough so you can place storage boxes underneath.,Length: 205 cm / Width: 94 cm / Footboard height: 30 cm / Headboard height: 65 cm / Free height under furniture: 20 cm / Mattress length: 200 cm / Mattress width: 90 cm / ,403.952.45\n",
      "\n",
      "Products/Furniture/Beds/Single beds/SAGSTUA Bed frame,SAGSTUA,540,A classic bed frame with a brass twist. The curved headboard and brass-coloured details soften the sturdy steel. Dressed with your favourite linens it becomes a statement piece and your own personal haven.,Length: 208 cm / Width: 98 cm / Height: 120 cm / Footboard height: 68 cm / Headboard height: 120 cm / Free height under furniture: 25 cm / Mattress length: 200 cm / Mattress width: 90 cm / ,092.596.22\n",
      "\n",
      "Products/Furniture/Beds/Single beds/NEIDEN Bed frame,NEIDEN,273,The natural solid wood is beautiful as it is or you can make it more personal by staining painting or waxing it. Also the bed frame is high enough so you can place storage boxes underneath.,Length: 205 cm / Width: 94 cm / Footboard height: 30 cm / Headboard height: 65 cm / Free height under furniture: 20 cm / Mattress length: 200 cm / Mattress width: 90 cm / ,592.486.12\n",
      "\n",
      "Products/Furniture/Beds/Single beds/MALM Bed frame high w 2 storage boxes,MALM,744,A clean design that’s just as beautiful on all sides – place the bed freestanding or with the headboard against a wall. You also get spacious storage boxes that roll out smoothly on castors.,Height of drawer (inside): 15 cm / Length: 209 cm / Width: 105 cm / Width of drawer (inside): 97 cm / Depth of drawer (inside): 59 cm / Footboard height: 38 cm / Headboard height: 100 cm / Mattress length: 200 cm / Mattress width: 90 cm / Height: 100 cm / ,290.115.07\n",
      "\n",
      "Products/Furniture/Beds/Single beds/MALM Bed frame high,MALM,415,A clean design that’s just as beautiful on all sides – place the bed freestanding or with the headboard against a wall. If you need space for extra bedding add MALM bed storage boxes on castors.,Length: 209 cm / Width: 105 cm / Footboard height: 38 cm / Headboard height: 100 cm / Mattress length: 200 cm / Mattress width: 90 cm / Height: 100 cm / Free height under furniture: 21 cm / ,002.494.87\n",
      "\n"
     ]
    },
    {
     "name": "stdout",
     "output_type": "stream",
     "text": [
      "Products/Furniture/Beds/Single beds/HEMNES Bed frame,HEMNES,761,Sustainable beauty from sustainably-sourced solid wood a durable and renewable material that maintains its genuine character with each passing year. Combines with the other furniture in the HEMNES series.,Length: 211 cm / Width: 104 cm / Footboard height: 66 cm / Headboard height: 112 cm / Mattress length: 200 cm / Mattress width: 90 cm / ,302.495.46\n",
      "\n",
      "Products/Furniture/Beds/Single beds/BRIMNES Bed frame w storage and headboard,BRIMNES,1005,IKEA of Sweden/K Hagberg/M Hagberg,Length: 234 cm / Width: 96 cm / Height: 110 cm / Depth of drawer (inside): 54 cm / Mattress length: 200 cm / Mattress width: 90 cm / ,492.783.41\n",
      "\n",
      "Products/Furniture/Beds/Single beds/BRIMNES Bed frame with storage,BRIMNES,645,K Hagberg/M Hagberg,Length: 206 cm / Width: 96 cm / Height: 47 cm / Depth of drawer (inside): 54 cm / Mattress length: 200 cm / Mattress width: 90 cm / Height of drawer (inside): 20 cm / Width of drawer (inside): 94 cm / Max. load/drawer: 20 kg,204.006.91\n",
      "\n",
      "Products/Furniture/Beds/Single beds/HEMNES Bed frame,HEMNES,871,Sustainable beauty from sustainably-sourced solid wood a durable and renewable material that maintains its genuine character with each passing year. Combines with the other furniture in the HEMNES series.,Length: 211 cm / Width: 104 cm / Footboard height: 66 cm / Headboard height: 112 cm / Mattress length: 200 cm / Mattress width: 90 cm / ,490.095.51\n",
      "\n",
      "Products/Furniture/Beds/Single beds/MALM Bed frame high,MALM,525,A clean design that’s just as beautiful on all sides – place the bed freestanding or with the headboard against a wall. If you need space for extra bedding add MALM bed storage boxes on castors.,Length: 209 cm / Width: 105 cm / Footboard height: 38 cm / Headboard height: 100 cm / Mattress length: 200 cm / Mattress width: 90 cm / Height: 100 cm / Free height under furniture: 21 cm / ,190.095.62\n",
      "\n",
      "Products/Furniture/Beds/Double beds/UTÅKER Stackable bed,UTÅKER,761,When stacked these 2 beds become a single bed or sofa. Unstacked you get a double bed corner sofa or spare bed for sleepovers. And if you need space for yoga just stack them again.,Height 2 beds: 46 cm / Length: 205 cm / Width: 83 cm / Height: 23 cm / Package quantity: 2 packMattress length: 200 cm / Mattress width: 80 cm / ,003.604.84\n",
      "\n",
      "Products/Furniture/Beds/Single beds/SLÄKT Bed frame with slatted bed base,SLÄKT,416,This bed frame is very versatile. Combine it with an underbed with storage underneath or with different modules to create extra storage space or a comfy place for hanging out with friends.,Length: 206 cm / Width: 96 cm / Footboard height: 56 cm / Headboard height: 78 cm / Free height under furniture: 36 cm / Max. load: 100 kgMattress length: 200 cm / Mattress width: 90 cm / ,792.277.55\n",
      "\n",
      "Products/Furniture/Beds/Single beds/KURA Reversible bed,KURA,816,This low bed is perfect for younger children but also grows with them. You can turn it upside down when your child gets older – creating a play corner in no time with space for play and cosy times.,Length: 209 cm / Width: 99 cm / Height: 116 cm / Height under loft bed: 83 cm / Max. load: 100 kgMattress length: 200 cm / Mattress width: 90 cm / Max. thickness mattress: 12 cm / ,802.538.09\n",
      "\n",
      "Products/Furniture/Beds/Single beds/FYRESDAL Day-bed frame,FYRESDAL,601,Plenty of room for your guests or for long lazy days. Use the day-bed as a free standing chaise longue a single bed or lift and pull out the extra bed base to create a double bed.,Length: 207 cm / Width: 88 cm / Height: 94 cm / Bed width: 163 cm / Bed length: 207 cm / Mattress length: 200 cm / Mattress width: 80 cm / ,204.243.62\n",
      "\n",
      "Products/Furniture/Beds/Single beds/HEMNES Bed frame with 2 storage boxes,HEMNES,1496,Carina Bengs/IKEA of Sweden,Length: 211 cm / Width: 104 cm / Footboard height: 66 cm / Headboard height: 112 cm / Mattress length: 200 cm / Mattress width: 90 cm / Height of drawer (inside): 18 cm / Height: 112 cm / Depth of drawer (inside): 64 cm / ,091.888.23\n",
      "\n",
      "Products/Furniture/Beds/Single beds/HEMNES Day-bed w 3 drawers/2 mattresses,HEMNES,2316,A sofa a single bed a double bed and storage in one piece of furniture! Perfect if you are tight of space. If you like the style you can combine it with other furniture in the HEMNES series.,Height of drawer (inside): 18 cm / Length: 209 cm / Width: 89 cm / Height: 83 cm / Width of drawer (inside): 55 cm / Depth of drawer (inside): 70 cm / Bed width: 168 cm / Bed length: 202 cm / Mattress length: 200 cm / Mattress width: 80 cm / ,691.861.14\n",
      "\n",
      "Products/Furniture/Beds/Double beds/UTÅKER Stackable bed with 2 mattresses,UTÅKER,1407,When stacked these 2 beds become a single bed or sofa. Unstacked you get a double bed corner sofa or spare bed for sleepovers. And if you need space for yoga just stack them again.,Height 2 beds: 46 cm / Length: 205 cm / Width: 83 cm / Height: 23 cm / Package quantity: 2 packMattress length: 200 cm / Mattress width: 80 cm / ,392.278.37\n",
      "\n",
      "Products/Furniture/Beds/Single beds/BRYNE Net,BRYNE,54,You must enable JavaScript to shop on IKEA.com,Length: 230 cm / Diameter: 56 cm / ,443.610.10\n",
      "\n",
      "Products/Furniture/Beds/Single beds/BRIMNES Day-bed frame with 2 drawers,BRIMNES,1199,A sofa by day and a bed for one – or two – by night. The two large drawers give plenty of space for quilts pillows and bed linen. A smart solution when you live in a small space.,Height of drawer (inside): 21 cm / Length: 205 cm / Width: 86 cm / Height: 57 cm / Width of drawer (inside): 87 cm / Depth of drawer (inside): 53 cm / Bed width: 160 cm / Bed length: 205 cm / Max. load/drawer: 20 kgMattress length: 200 cm / Mattress width: 80 cm / ,002.287.05\n",
      "\n",
      "Products/Furniture/Beds/Single beds/SLÄKT Bed frame w storage+slatted bedbase,SLÄKT,1533,A teenager's dream. A nice bed with lots of storage which swallows up everything from t-shirts to hobby things and not least dirty laundry. Everything in a small space and at a comfortable distance.,Shelf width: 42 cm / Shelf depth: 35 cm / Height of drawer (inside): 14 cm / Length: 206 cm / Width: 96 cm / Width of drawer (inside): 72 cm / Depth of drawer (inside): 57 cm / Footboard height: 71 cm / Headboard height: 91 cm / Max. load: 100 kgMax. load/drawer: 15 kgMattress length: 200 cm / Mattress width: 90 cm / ,292.919.56\n",
      "\n",
      "Products/Furniture/Beds/Single beds/FYRESDAL Day-bed with 2 mattresses,FYRESDAL,1247,Plenty of room for your guests or for long lazy days. Use the day-bed as a free standing chaise longue a single bed or lift and pull out the extra bed base to create a double bed.,Length: 207 cm / Width: 88 cm / Height: 94 cm / Bed width: 163 cm / Bed length: 207 cm / Mattress length: 200 cm / Mattress width: 80 cm / ,392.792.80\n",
      "\n",
      "Products/Furniture/Beds/Single beds/FLEKKE Day-bed frame with 2 drawers,FLEKKE,1637,A sofa by day and a bed for one – or two – by night. The two large drawers give plenty of space for quilts pillows and bed linen. A smart solution when you live in a small space.,Length: 207 cm / Width: 88 cm / Height: 86 cm / Bed width: 169 cm / Bed length: 207 cm / Mattress length: 200 cm / Mattress width: 80 cm / ,203.201.28\n",
      "\n",
      "Products/Furniture/Beds/Single beds/HEMNES Day-bed frame with 3 drawers,HEMNES,1670,Carina Bengs,Height of drawer (inside): 18 cm / Length: 209 cm / Width: 89 cm / Height: 83 cm / Width of drawer (inside): 55 cm / Depth of drawer (inside): 70 cm / Bed width: 168 cm / Bed length: 202 cm / Mattress length: 200 cm / Mattress width: 80 cm / ,603.722.76\n",
      "\n",
      "Products/Furniture/Beds/Single beds/HEMNES Day-bed w 3 drawers/2 mattresses,HEMNES,2316,Carina Bengs/IKEA of Sweden,Length: 211 cm / Width: 87 cm / Height: 83 cm / Bed width: 168 cm / Bed length: 211 cm / Mattress length: 200 cm / Mattress width: 80 cm / Height of drawer (inside): 18 cm / Width of drawer (inside): 55 cm / Depth of drawer (inside): 70 cm / ,992.116.21\n",
      "\n",
      "Products/Furniture/Beds/Double beds/LEIRVIK Bed frame,LEIRVIK,690,If you’re a romantic you’ll find it hard to resist these decorative curves in white steel. Make the bed with beautiful textiles and pillows and enjoy your dreams with fairy tale endings.,Length: 209 cm / Width: 148 cm / Footboard height: 98 cm / Headboard height: 146 cm / Mattress length: 200 cm / Mattress width: 140 cm / ,792.772.79\n",
      "\n"
     ]
    },
    {
     "name": "stdout",
     "output_type": "stream",
     "text": [
      "Products/Furniture/Beds/Double beds/MALM Bed frame high w 2 storage boxes,MALM,685,A clean design that’s just as beautiful on all sides – place the bed freestanding or with the headboard against a wall. You also get spacious storage boxes that roll out smoothly on castors.,Height of drawer (inside): 15 cm / Length: 209 cm / Width: 156 cm / Width of drawer (inside): 97 cm / Depth of drawer (inside): 59 cm / Footboard height: 38 cm / Headboard height: 100 cm / Mattress length: 200 cm / Mattress width: 140 cm / Height: 100 cm / ,591.759.55\n",
      "\n",
      "Products/Furniture/Beds/Double beds/SLATTUM Upholstered bed frame,SLATTUM,545,Upholstered in soft woven fabric that brings a cosy feeling into your bedroom. The headboard is a comfy backrest for late night reading. And what’s more it all comes in 1 package. Convenient right?,Length: 206 cm / Width: 144 cm / Footboard height: 40 cm / Headboard height: 85 cm / Mattress length: 200 cm / Mattress width: 140 cm / ,304.463.73\n",
      "\n",
      "Products/Furniture/Beds/Double beds/SAGSTUA Bed frame,SAGSTUA,695,A classic bed frame with a brass twist. The curved headboard and brass-coloured details soften the sturdy steel. Dressed with your favourite linens it becomes a statement piece and your own personal haven.,Length: 208 cm / Width: 148 cm / Height: 140 cm / Footboard height: 74 cm / Headboard height: 140 cm / Free height under furniture: 25 cm / Mattress length: 200 cm / Mattress width: 140 cm / ,492.689.07\n",
      "\n",
      "Products/Furniture/Beds/Double beds/NEIDEN Bed frame,NEIDEN,218,The natural solid wood is beautiful as it is or you can make it more personal by staining painting or waxing it. Also the bed frame is high enough so you can place storage boxes underneath.,Length: 205 cm / Width: 144 cm / Footboard height: 30 cm / Headboard height: 65 cm / Free height under furniture: 20 cm / Mattress length: 200 cm / Mattress width: 140 cm / ,703.952.39\n",
      "\n",
      "Products/Furniture/Beds/Double beds/MALM Bed frame high,MALM,686,A clean design that’s just as beautiful on all sides – place the bed freestanding or with the headboard against a wall. If you need space for extra bedding add MALM bed storage boxes on castors.,Length: 209 cm / Width: 156 cm / Footboard height: 38 cm / Headboard height: 100 cm / Mattress length: 200 cm / Mattress width: 140 cm / Height: 100 cm / Free height under furniture: 21 cm / ,690.024.31\n",
      "\n",
      "Products/Furniture/Beds/Double beds/TRYSIL Bed frame,TRYSIL,585,Bedtime is reading time! The angled headboard allows you sit comfortably while reading. A perfect way to unwind before turning the lights off. Looks great with the other furniture in the TRYSIL series.,Length: 218 cm / Width: 165 cm / Footboard height: 40 cm / Headboard height: 98 cm / Mattress length: 200 cm / Mattress width: 160 cm / ,699.127.70\n",
      "\n",
      "Products/Furniture/Beds/Double beds/HAUGA Upholstered bed frame,HAUGA,980,This upholstered bed frame brings warmth and softness into your bedroom. The durable two-toned fabric the gently curved headboard and the piped edges create a classic expression you will enjoy for years.,Length: 211 cm / Width: 169 cm / Footboard height: 43 cm / Headboard height: 100 cm / Mattress length: 200 cm / Mattress width: 160 cm / ,304.463.54\n",
      "\n",
      "Products/Furniture/Beds/Double beds/BRIMNES Bed frame w storage and headboard,BRIMNES,1114,A bed frame with hidden storage in several places – perfect if you live in a small space. The BRIMNES series has several smart solutions that help you save space.,Length: 234 cm / Width: 146 cm / Height: 111 cm / Mattress length: 200 cm / Mattress width: 140 cm / ,591.574.47\n",
      "\n",
      "Products/Furniture/Beds/Double beds/HEMNES Bed frame,HEMNES,1500,Sustainable beauty from sustainably-sourced solid wood a durable and renewable material that maintains its genuine character with each passing year. Combines with the other furniture in the HEMNES series.,Length: 211 cm / Width: 194 cm / Footboard height: 66 cm / Headboard height: 120 cm / Mattress length: 200 cm / Mattress width: 180 cm / ,790.022.75\n",
      "\n",
      "Products/Furniture/Beds/Upholstered beds/TUFJORD Upholstered bed frame,TUFJORD,2800,TUFJORD will make you long for bedtime. The headboard’s embracing curves help you to unwind and make lazy mornings spent in bed even cosier. And the soft textured upholstery enhances the comfy feel.,Length: 223 cm / Width: 184 cm / Footboard height: 38 cm / Headboard height: 109 cm / Mattress length: 200 cm / Mattress width: 160 cm / ,704.464.08\n",
      "\n",
      "Products/Furniture/Beds/Double beds/TARVA Bed frame,TARVA,762,TARVA bed frame is a modern example of Scandinavian furniture tradition – a simple design and untreated wood. A timeless expression mixes nicely with a variety of other styles and furniture.,Length: 209 cm / Width: 168 cm / Footboard height: 32 cm / Headboard height: 92 cm / Mattress length: 200 cm / Mattress width: 160 cm / ,690.024.26\n",
      "\n",
      "Products/Furniture/Beds/Double beds/SONGESAND Bed frame,SONGESAND,488,A sturdy bed frame with soft profile edges and high legs. A classic shape that will last for many years. Complete with SONGESAND bed storage boxes to store extra bedding without taking up more space.,Length: 207 cm / Width: 173 cm / Footboard height: 41 cm / Headboard height: 95 cm / Free height under furniture: 20 cm / Mattress length: 200 cm / Mattress width: 160 cm / ,392.410.46\n",
      "\n",
      "Products/Furniture/Beds/Double beds/BRIMNES Bed frame with storage,BRIMNES,930,When you live in a small space you need to be clever. That’s probably why you’re looking at this bed frame with 4 spacious drawers. The BRIMNES series has several heroes that help you save space.,Height of drawer (inside): 20 cm / Length: 206 cm / Width: 166 cm / Height: 47 cm / Width of drawer (inside): 94 cm / Depth of drawer (inside): 54 cm / Mattress length: 200 cm / Mattress width: 160 cm / ,099.029.34\n",
      "\n",
      "Products/Furniture/Beds/Double beds/MALM Bed frame high w 4 storage boxes,MALM,1124,A clean design that’s just as beautiful on all sides – place the bed freestanding or with the headboard against a wall. You also get spacious storage boxes that roll out smoothly on castors.,Length: 209 cm / Width: 156 cm / Width of drawer (inside): 97 cm / Depth of drawer (inside): 59 cm / Footboard height: 38 cm / Headboard height: 100 cm / Mattress length: 200 cm / Mattress width: 140 cm / Height of drawer (inside): 15 cm / Height: 100 cm / ,390.024.37\n",
      "\n",
      "Products/Furniture/Beds/Double beds/TYSSEDAL Bed frame,TYSSEDAL,2660,It’s light and neat with soft shapes and a handcrafted feel in every detail – quality and style that will last for years. TYSSEDAL series also has other bedroom furniture with the same Scandinavian look.,Length: 210 cm / Width: 187 cm / Footboard height: 44 cm / Headboard height: 140 cm / Free height under furniture: 20 cm / Mattress length: 200 cm / Mattress width: 180 cm / ,690.581.35\n",
      "\n",
      "Products/Furniture/Beds/Upholstered beds/VADHEIM Upholstered bed frame,VADHEIM,2195,Soft comfortable and calming green – VADHEIM creates a feeling of warmth and tranquility in your bedroom. Clean design together with a rounded padded headboard makes the bed both stylish and inviting.,Length: 214 cm / Width: 186 cm / Footboard height: 38 cm / Headboard height: 113 cm / Mattress length: 200 cm / Mattress width: 160 cm / ,104.656.59\n",
      "\n",
      "Products/Furniture/Beds/Double beds/ASKVOLL Bed frame,ASKVOLL,720,Let the clean simple design stand out or let the bed be a backdrop for your favourite textiles or other furnishings. The low headboard makes it a perfect choice under a window or sloped ceiling.,Length: 208 cm / Width: 147 cm / Footboard height: 43 cm / Headboard height: 77 cm / Mattress length: 200 cm / Mattress width: 140 cm / ,090.304.70\n",
      "\n",
      "Products/Furniture/Beds/Double beds/NORDLI Bed frame w storage and headboard,NORDLI,2508,There’s plenty of space in the drawers for clothes extra duvets and sweet dreams – and you can position the headboard’s box and shelf so your favourite book is easy to reach. A perfect combination!,Height of drawer (inside): 16 cm / Length: 202 cm / Width: 240 cm / Height: 30 cm / Width of drawer (inside): 58 cm / Depth of drawer (inside): 51 cm / Headboard height: 114 cm / Mattress length: 200 cm / Mattress width: 140 cm / ,092.414.20\n",
      "\n",
      "Products/Furniture/Beds/Double beds/NESTTUN Bed frame,NESTTUN,872,The durable steel construction is coupled with a net-patterned headboard creating a light and airy expression. A simple design that mixes nicely with a variety of other styles and furniture.,Length: 207 cm / Width: 146 cm / Height: 95 cm / Footboard height: 35 cm / Headboard height: 95 cm / Mattress length: 200 cm / Mattress width: 140 cm / ,191.580.19\n",
      "\n"
     ]
    },
    {
     "name": "stdout",
     "output_type": "stream",
     "text": [
      "Products/Furniture/Beds/Double beds/SONGESAND Bed frame with 2 storage boxes,SONGESAND,845,A sturdy bed frame with soft profile edges and high legs. A classic shape that will last for many years. Also there are spacious storage boxes under the bed where you can store bedding or clothes.,Height of drawer (inside): 14 cm / Length: 207 cm / Width: 153 cm / Width of drawer (inside): 56 cm / Depth of drawer (inside): 64 cm / Footboard height: 41 cm / Headboard height: 95 cm / Mattress length: 200 cm / Mattress width: 140 cm / ,292.411.03\n",
      "\n",
      "Products/Furniture/Beds/Double beds/MALM Ottoman bed,MALM,2075,This bed gives you spacious storage without taking up more floor space. Simply flip up the bed base and hide your things inside. Place it freestanding or with the headboard against a wall.,Inside depth: 202 cm / Inside width: 181 cm / Inside height: 27 cm / Length: 210 cm / Width: 195 cm / Footboard height: 38 cm / Headboard height: 100 cm / Mattress length: 200 cm / Mattress width: 180 cm / ,004.048.12\n",
      "\n",
      "Products/Furniture/Beds/Double beds/DELAKTIG Bed frame with headboard,DELAKTIG,2460,The natural fibres in the headboard and the aluminium frame’s rounded corners make the industrial look feel softer and warmer.,Length: 205 cm / Width: 164 cm / Height: 99 cm / Mattress length: 200 cm / Mattress width: 160 cm / ,992.875.50\n",
      "\n",
      "Products/Furniture/Beds/Double beds/HEMNES Bed frame with 4 storage boxes,HEMNES,1990,Carina Bengs/IKEA of Sweden,Length: 211 cm / Width: 154 cm / Footboard height: 66 cm / Headboard height: 120 cm / Mattress length: 200 cm / Mattress width: 140 cm / Height of drawer (inside): 18 cm / Height: 120 cm / Depth of drawer (inside): 64 cm / ,691.944.25\n",
      "\n",
      "Products/Furniture/Beds/Double beds/SLATTUM Upholstered bed frame,SLATTUM,545,Upholstered in soft woven fabric that brings a cosy feeling into your bedroom. The headboard is a comfy backrest for late night reading. And what’s more it all comes in 1 package. Convenient right?,Length: 206 cm / Width: 144 cm / Footboard height: 40 cm / Headboard height: 85 cm / Mattress length: 200 cm / Mattress width: 140 cm / ,304.463.73\n",
      "\n",
      "Products/Furniture/Beds/Upholstered beds/TUFJORD Upholstered bed frame,TUFJORD,2800,TUFJORD will make you long for bedtime. The headboard’s embracing curves help you to unwind and make lazy mornings spent in bed even cosier. And the soft textured upholstery enhances the comfy feel.,Length: 223 cm / Width: 184 cm / Footboard height: 38 cm / Headboard height: 109 cm / Mattress length: 200 cm / Mattress width: 160 cm / ,704.464.08\n",
      "\n",
      "Products/Furniture/Beds/Double beds/HAUGA Upholstered bed frame,HAUGA,980,This upholstered bed frame brings warmth and softness into your bedroom. The durable two-toned fabric the gently curved headboard and the piped edges create a classic expression you will enjoy for years.,Length: 211 cm / Width: 169 cm / Footboard height: 43 cm / Headboard height: 100 cm / Mattress length: 200 cm / Mattress width: 160 cm / ,304.463.54\n",
      "\n",
      "Products/Furniture/Beds/Upholstered beds/VADHEIM Upholstered bed frame,VADHEIM,2195,Soft comfortable and calming green – VADHEIM creates a feeling of warmth and tranquility in your bedroom. Clean design together with a rounded padded headboard makes the bed both stylish and inviting.,Length: 214 cm / Width: 186 cm / Footboard height: 38 cm / Headboard height: 113 cm / Mattress length: 200 cm / Mattress width: 160 cm / ,104.656.59\n",
      "\n",
      "Products/Furniture/Beds/Double beds/HAUGA Upholstered bed 2 storage boxes,HAUGA,1309,With storage boxes under an upholstered bed frame you get both a soft bed and generous storage. The grey two-toned fabric rounded headboard and piping create a classic look to enjoy for many years.,Height of drawer (inside): 15 cm / Length: 209 cm / Width: 176 cm / Width of drawer (inside): 97 cm / Depth of drawer (inside): 59 cm / Footboard height: 42 cm / Headboard height: 99 cm / Mattress length: 200 cm / Mattress width: 160 cm / ,693.366.51\n",
      "\n",
      "Products/Furniture/Beds/Double beds/HAUGA Upholstered bed 2 storage boxes,HAUGA,928,With storage boxes under an upholstered bed frame you get both a soft bed and generous storage. The grey two-toned fabric rounded headboard and piping create a classic look to enjoy for many years.,Height of drawer (inside): 15 cm / Length: 209 cm / Width: 106 cm / Width of drawer (inside): 97 cm / Depth of drawer (inside): 59 cm / Footboard height: 99 cm / Headboard height: 42 cm / Mattress length: 200 cm / Mattress width: 90 cm / ,593.365.95\n",
      "\n",
      "Products/Furniture/Beds/Single beds/HAUGA Upholstered bed frame,HAUGA,599,This upholstered bed frame brings warmth and softness into your bedroom. The durable two-toned fabric the gently curved headboard and the piped edges create a classic expression you will enjoy for years.,Length: 211 cm / Width: 99 cm / Footboard height: 43 cm / Headboard height: 100 cm / Mattress length: 200 cm / Mattress width: 90 cm / ,404.500.72\n",
      "\n",
      "Products/Furniture/Beds/Double beds/HAUGA Upholstered bed 4 storage boxes,HAUGA,1529,With storage boxes under an upholstered bed frame you get both a soft bed and generous storage. The grey two-toned fabric rounded headboard and piping create a classic look to enjoy for many years.,Height of drawer (inside): 15 cm / Length: 210 cm / Width: 148 cm / Width of drawer (inside): 97 cm / Depth of drawer (inside): 59 cm / Footboard height: 42 cm / Headboard height: 99 cm / Mattress length: 200 cm / Mattress width: 140 cm / ,193.365.97\n",
      "\n",
      "Products/Storage & organisation/Wardrobes/Open wardrobes/JONAXEL Shelving unit with clothes rail,JONAXEL,432,It can be difficult to keep things neat and tidy. JONAXEL storage system lets you utilise the spaces you have in smarter ways. You can build a combination that fits exactly your needs and use it almost anywhere even in humid bathrooms and laundry rooms.,Width: 99 cm / Depth: 51 cm / Height: 173 cm / ,092.976.57\n",
      "\n",
      "Products/Storage & organisation/Wardrobes/Open wardrobes/JONAXEL Frame/w bskts/clths rl/shlv uts,JONAXEL,741,It can be difficult to keep things neat and tidy. JONAXEL storage system lets you utilise the spaces you have in smarter ways. You can build a combination that fits exactly your needs and use it almost anywhere even in humid bathrooms and laundry rooms.,Width: 173 cm / Depth: 51 cm / Height: 173 cm / ,892.976.63\n",
      "\n",
      "Products/Storage & organisation/Wardrobes/Open wardrobes/JONAXEL Frames/clothes rails/shelving units,JONAXEL,648,It can be difficult to keep things neat and tidy. JONAXEL storage system lets you utilise the spaces you have in smarter ways. You can build a combination that fits exactly your needs and use it almost anywhere even in humid bathrooms and laundry rooms.,Width: 148 cm / Depth: 51 cm / Height: 173 cm / ,093.062.04\n",
      "\n",
      "Products/Storage & organisation/Wardrobes/Open wardrobes/JONAXEL Frame/wire baskets/clothes rails,JONAXEL,696,It can be difficult to keep things neat and tidy. JONAXEL storage system lets you utilise the spaces you have in smarter ways. You can build a combination that fits exactly your needs and use it almost anywhere even in humid bathrooms and laundry rooms.,Min. width: 142 cm / Max. width: 178 cm / Depth: 51 cm / Height: 173 cm / ,793.051.02\n",
      "\n",
      "Products/Storage & organisation/Wardrobes/Open wardrobes/BOAXEL 4 sections,BOAXEL,1315,You can fit more than you think in a limited area. BOAXEL wall-mounted storage system is easy to mount and takes care of all your clothes and shoes in the bedroom and in smaller walk-in wardrobes.,Width: 242.0 cm / Depth: 40.0 cm / Height: 200.6 cm / ,993.323.88\n",
      "\n",
      "Products/Storage & organisation/Wardrobes/Open wardrobes/JONAXEL Frame/wire baskets/clothes rails,JONAXEL,542,It can be difficult to keep things neat and tidy. JONAXEL storage system lets you utilise the spaces you have in smarter ways. You can build a combination that fits exactly your needs and use it almost anywhere even in humid bathrooms and laundry rooms.,Width: 99 cm / Depth: 51 cm / Height: 173 cm / ,492.976.60\n",
      "\n",
      "Products/Storage & organisation/Wardrobes/Open wardrobes/JONAXEL Frame/wire baskets/clothes rails,JONAXEL,566,It can be difficult to keep things neat and tidy. JONAXEL storage system lets you utilise the spaces you have in smarter ways. You can build a combination that fits exactly your needs and use it almost anywhere even in humid bathrooms and laundry rooms.,Min. width: 142 cm / Max. width: 178 cm / Depth: 51 cm / Height: 139 cm / ,593.175.54\n",
      "\n"
     ]
    },
    {
     "name": "stdout",
     "output_type": "stream",
     "text": [
      "Products/Storage & organisation/Wardrobes/Open wardrobes/BOAXEL 2 sections,BOAXEL,636,Thick coats winter hats and boots or jackets hats and sandals – regardless of weather and season there is room for all of your outdoor clothing in BOAXEL wall-mounted storage system.,Width: 122.0 cm / Depth: 40.0 cm / Height: 200.6 cm / ,693.323.56\n",
      "\n",
      "Products/Storage & organisation/Wardrobes/Wardrobe shelving/KLEPPSTAD Shelf,KLEPPSTAD,55,How to get the most of your storage space? Add an extra shelf (or 2) so you can organise your clothes bags and other personal belongings even more.,Width: 56 cm / Depth: 50 cm / ,604.792.82\n",
      "\n",
      "Products/Storage & organisation/Wardrobes/Open wardrobes/JONAXEL Frame/mesh baskets/shelving units,JONAXEL,1086,It can be difficult to keep things neat and tidy. JONAXEL storage system lets you utilise the spaces you have in smarter ways. You can build a combination that fits exactly your needs and use it almost anywhere even in humid bathrooms and laundry rooms.,Width: 148 cm / Depth: 51 cm / Height: 173 cm / ,192.976.85\n",
      "\n",
      "Products/Storage & organisation/Wardrobes/Open wardrobes/JONAXEL Frame/mesh baskets/shelving units,JONAXEL,724,It can be difficult to keep things neat and tidy. JONAXEL storage system lets you utilise the spaces you have in smarter ways. You can build a combination that fits exactly your needs and use it almost anywhere even in humid bathrooms and laundry rooms.,Width: 99 cm / Depth: 51 cm / Height: 173 cm / ,393.239.90\n",
      "\n"
     ]
    }
   ],
   "source": [
    "write_to_csv = open(\"final_output.csv\", \"w\", encoding=\"utf-8\")\n",
    "write_to_csv.write(\"Category,Name,Price,Description,Measurement,SKU\\n\")\n",
    "links = open(\"newlinks.txt\", \"r\").readlines()\n",
    "\n",
    "for link in links:\n",
    "    get_source(link.strip(\"\\n\"))\n",
    "    time.sleep(3) "
   ]
  },
  {
   "cell_type": "code",
   "execution_count": 12,
   "metadata": {},
   "outputs": [],
   "source": [
    "df=pd.read_csv(\"final_output.csv\")"
   ]
  },
  {
   "cell_type": "code",
   "execution_count": 13,
   "metadata": {},
   "outputs": [
    {
     "data": {
      "text/html": [
       "<div>\n",
       "<style scoped>\n",
       "    .dataframe tbody tr th:only-of-type {\n",
       "        vertical-align: middle;\n",
       "    }\n",
       "\n",
       "    .dataframe tbody tr th {\n",
       "        vertical-align: top;\n",
       "    }\n",
       "\n",
       "    .dataframe thead th {\n",
       "        text-align: right;\n",
       "    }\n",
       "</style>\n",
       "<table border=\"1\" class=\"dataframe\">\n",
       "  <thead>\n",
       "    <tr style=\"text-align: right;\">\n",
       "      <th></th>\n",
       "      <th>Category</th>\n",
       "      <th>Name</th>\n",
       "      <th>Price</th>\n",
       "      <th>Description</th>\n",
       "      <th>Measurement</th>\n",
       "      <th>SKU</th>\n",
       "    </tr>\n",
       "  </thead>\n",
       "  <tbody>\n",
       "    <tr>\n",
       "      <th>0</th>\n",
       "      <td>Products/Furniture/Beds/Children's beds/Junior...</td>\n",
       "      <td>MINNEN</td>\n",
       "      <td>433</td>\n",
       "      <td>This extendable bed grows as your child grows ...</td>\n",
       "      <td>Min. length: 135 cm / Max. length: 206 cm / Wi...</td>\n",
       "      <td>291.239.58</td>\n",
       "    </tr>\n",
       "    <tr>\n",
       "      <th>1</th>\n",
       "      <td>Products/Furniture/Beds/Children's beds/Junior...</td>\n",
       "      <td>MINNEN</td>\n",
       "      <td>433</td>\n",
       "      <td>This extendable bed grows as your child grows ...</td>\n",
       "      <td>Min. length: 135 cm / Max. length: 206 cm / Wi...</td>\n",
       "      <td>693.237.57</td>\n",
       "    </tr>\n",
       "    <tr>\n",
       "      <th>2</th>\n",
       "      <td>Products/Furniture/Beds/Children's beds/Junior...</td>\n",
       "      <td>KRITTER</td>\n",
       "      <td>400</td>\n",
       "      <td>Anna Efverlund/IKEA of Sweden</td>\n",
       "      <td>Length: 165 cm / Width: 75 cm / Footboard heig...</td>\n",
       "      <td>691.854.35</td>\n",
       "    </tr>\n",
       "    <tr>\n",
       "      <th>3</th>\n",
       "      <td>Products/Furniture/Beds/Children's beds/Junior...</td>\n",
       "      <td>BUSUNGE</td>\n",
       "      <td>879</td>\n",
       "      <td>Playful design in strong materials with durabl...</td>\n",
       "      <td>Min. length: 138 cm / Max. length: 208 cm / Wi...</td>\n",
       "      <td>703.057.00</td>\n",
       "    </tr>\n",
       "    <tr>\n",
       "      <th>4</th>\n",
       "      <td>Products/Furniture/Beds/Cots/SNIGLAR Cot</td>\n",
       "      <td>SNIGLAR</td>\n",
       "      <td>323</td>\n",
       "      <td>Your baby sleeps safely and comfortably in thi...</td>\n",
       "      <td>Length: 124 cm / Width: 66 cm / Height: 80 cm ...</td>\n",
       "      <td>302.485.37</td>\n",
       "    </tr>\n",
       "  </tbody>\n",
       "</table>\n",
       "</div>"
      ],
      "text/plain": [
       "                                            Category     Name  Price  \\\n",
       "0  Products/Furniture/Beds/Children's beds/Junior...   MINNEN    433   \n",
       "1  Products/Furniture/Beds/Children's beds/Junior...   MINNEN    433   \n",
       "2  Products/Furniture/Beds/Children's beds/Junior...  KRITTER    400   \n",
       "3  Products/Furniture/Beds/Children's beds/Junior...  BUSUNGE    879   \n",
       "4           Products/Furniture/Beds/Cots/SNIGLAR Cot  SNIGLAR    323   \n",
       "\n",
       "                                         Description  \\\n",
       "0  This extendable bed grows as your child grows ...   \n",
       "1  This extendable bed grows as your child grows ...   \n",
       "2                      Anna Efverlund/IKEA of Sweden   \n",
       "3  Playful design in strong materials with durabl...   \n",
       "4  Your baby sleeps safely and comfortably in thi...   \n",
       "\n",
       "                                         Measurement         SKU  \n",
       "0  Min. length: 135 cm / Max. length: 206 cm / Wi...  291.239.58  \n",
       "1  Min. length: 135 cm / Max. length: 206 cm / Wi...  693.237.57  \n",
       "2  Length: 165 cm / Width: 75 cm / Footboard heig...  691.854.35  \n",
       "3  Min. length: 138 cm / Max. length: 208 cm / Wi...  703.057.00  \n",
       "4  Length: 124 cm / Width: 66 cm / Height: 80 cm ...  302.485.37  "
      ]
     },
     "execution_count": 13,
     "metadata": {},
     "output_type": "execute_result"
    }
   ],
   "source": [
    "df.head()"
   ]
  },
  {
   "cell_type": "code",
   "execution_count": 14,
   "metadata": {},
   "outputs": [
    {
     "data": {
      "image/png": "[encoded data removed]",
      "text/plain": [
       "<Figure size 576x576 with 1 Axes>"
      ]
     },
     "metadata": {
      "needs_background": "light"
     },
     "output_type": "display_data"
    }
   ],
   "source": [
    "df.hist(figsize=(8,8));"
   ]
  },
  {
   "cell_type": "code",
   "execution_count": 15,
   "metadata": {},
   "outputs": [
    {
     "data": {
      "text/html": [
       "<div>\n",
       "<style scoped>\n",
       "    .dataframe tbody tr th:only-of-type {\n",
       "        vertical-align: middle;\n",
       "    }\n",
       "\n",
       "    .dataframe tbody tr th {\n",
       "        vertical-align: top;\n",
       "    }\n",
       "\n",
       "    .dataframe thead th {\n",
       "        text-align: right;\n",
       "    }\n",
       "</style>\n",
       "<table border=\"1\" class=\"dataframe\">\n",
       "  <thead>\n",
       "    <tr style=\"text-align: right;\">\n",
       "      <th></th>\n",
       "      <th>Price</th>\n",
       "    </tr>\n",
       "  </thead>\n",
       "  <tbody>\n",
       "    <tr>\n",
       "      <th>count</th>\n",
       "      <td>300.000000</td>\n",
       "    </tr>\n",
       "    <tr>\n",
       "      <th>mean</th>\n",
       "      <td>746.953333</td>\n",
       "    </tr>\n",
       "    <tr>\n",
       "      <th>std</th>\n",
       "      <td>676.516870</td>\n",
       "    </tr>\n",
       "    <tr>\n",
       "      <th>min</th>\n",
       "      <td>16.000000</td>\n",
       "    </tr>\n",
       "    <tr>\n",
       "      <th>25%</th>\n",
       "      <td>225.000000</td>\n",
       "    </tr>\n",
       "    <tr>\n",
       "      <th>50%</th>\n",
       "      <td>559.000000</td>\n",
       "    </tr>\n",
       "    <tr>\n",
       "      <th>75%</th>\n",
       "      <td>956.250000</td>\n",
       "    </tr>\n",
       "    <tr>\n",
       "      <th>max</th>\n",
       "      <td>2800.000000</td>\n",
       "    </tr>\n",
       "  </tbody>\n",
       "</table>\n",
       "</div>"
      ],
      "text/plain": [
       "             Price\n",
       "count   300.000000\n",
       "mean    746.953333\n",
       "std     676.516870\n",
       "min      16.000000\n",
       "25%     225.000000\n",
       "50%     559.000000\n",
       "75%     956.250000\n",
       "max    2800.000000"
      ]
     },
     "execution_count": 15,
     "metadata": {},
     "output_type": "execute_result"
    }
   ],
   "source": [
    "df.describe()"
   ]
  },
  {
   "cell_type": "code",
   "execution_count": 16,
   "metadata": {},
   "outputs": [
    {
     "name": "stdout",
     "output_type": "stream",
     "text": [
      "False\n"
     ]
    }
   ],
   "source": [
    "print(df.isnull().values.any())"
   ]
  },
  {
   "cell_type": "code",
   "execution_count": 17,
   "metadata": {},
   "outputs": [
    {
     "data": {
      "image/png": "[encoded data removed]",
      "text/plain": [
       "<Figure size 1080x504 with 1 Axes>"
      ]
     },
     "metadata": {
      "needs_background": "light"
     },
     "output_type": "display_data"
    }
   ],
   "source": [
    "df=pd.read_csv(\"final_output.csv\")\n",
    "price= df.Price\n",
    "category1 = []\n",
    "\n",
    "for value in df.Category:\n",
    "    if str(value).__contains__(\"Beds\") or str(value).__contains__(\"beds\"):\n",
    "        category1.append(\"Products/Furniture/Beds\")\n",
    "    elif str(value).__contains__(\"Products/Storage\"):\n",
    "        category1.append(\"Products/Storage & organisation/Wardrobes\")\n",
    "    elif str(value).__contains__(\"Chairs\") or str(value).__contains__(\"chairs\"):\n",
    "        category1.append(\"Products/Furniture/Chairs\")\n",
    "\n",
    "df.Category = category1\n",
    "\n",
    " \n",
    "\n",
    "# Draw the scatter plot\n",
    "f, ax = plot.subplots(figsize=(15,7))\n",
    "\n",
    "plot.scatter(category1, price, c='red')\n",
    "\n",
    "plot.title('Correlation between price and category')\n",
    "plot.xlabel('Category')\n",
    "plot.ylabel('Price')\n",
    "plot.show()"
   ]
  },
  {
   "cell_type": "code",
   "execution_count": 18,
   "metadata": {},
   "outputs": [
    {
     "data": {
      "text/plain": [
       "(300, 6)"
      ]
     },
     "execution_count": 18,
     "metadata": {},
     "output_type": "execute_result"
    }
   ],
   "source": [
    "df.shape"
   ]
  },
  {
   "cell_type": "code",
   "execution_count": 19,
   "metadata": {},
   "outputs": [
    {
     "data": {
      "text/plain": [
       "count     300.000000\n",
       "mean      746.953333\n",
       "std       676.516870\n",
       "min        16.000000\n",
       "25%       225.000000\n",
       "50%       559.000000\n",
       "75%       956.250000\n",
       "max      2800.000000\n",
       "Name: Price, dtype: float64"
      ]
     },
     "execution_count": 19,
     "metadata": {},
     "output_type": "execute_result"
    }
   ],
   "source": [
    "df['Price'].describe()"
   ]
  },
  {
   "cell_type": "code",
   "execution_count": 20,
   "metadata": {},
   "outputs": [
    {
     "data": {
      "text/html": [
       "<div>\n",
       "<style scoped>\n",
       "    .dataframe tbody tr th:only-of-type {\n",
       "        vertical-align: middle;\n",
       "    }\n",
       "\n",
       "    .dataframe tbody tr th {\n",
       "        vertical-align: top;\n",
       "    }\n",
       "\n",
       "    .dataframe thead th {\n",
       "        text-align: right;\n",
       "    }\n",
       "</style>\n",
       "<table border=\"1\" class=\"dataframe\">\n",
       "  <thead>\n",
       "    <tr style=\"text-align: right;\">\n",
       "      <th></th>\n",
       "      <th>Category</th>\n",
       "      <th>Name</th>\n",
       "      <th>Description</th>\n",
       "      <th>Measurement</th>\n",
       "      <th>SKU</th>\n",
       "    </tr>\n",
       "  </thead>\n",
       "  <tbody>\n",
       "    <tr>\n",
       "      <th>count</th>\n",
       "      <td>300</td>\n",
       "      <td>300</td>\n",
       "      <td>300</td>\n",
       "      <td>300</td>\n",
       "      <td>300</td>\n",
       "    </tr>\n",
       "    <tr>\n",
       "      <th>unique</th>\n",
       "      <td>3</td>\n",
       "      <td>83</td>\n",
       "      <td>101</td>\n",
       "      <td>150</td>\n",
       "      <td>186</td>\n",
       "    </tr>\n",
       "    <tr>\n",
       "      <th>top</th>\n",
       "      <td>Products/Furniture/Beds</td>\n",
       "      <td>PLATSA</td>\n",
       "      <td>IKEA of Sweden</td>\n",
       "      <td>No on the page</td>\n",
       "      <td>102.092.02</td>\n",
       "    </tr>\n",
       "    <tr>\n",
       "      <th>freq</th>\n",
       "      <td>106</td>\n",
       "      <td>28</td>\n",
       "      <td>19</td>\n",
       "      <td>6</td>\n",
       "      <td>4</td>\n",
       "    </tr>\n",
       "  </tbody>\n",
       "</table>\n",
       "</div>"
      ],
      "text/plain": [
       "                       Category    Name     Description     Measurement  \\\n",
       "count                       300     300             300             300   \n",
       "unique                        3      83             101             150   \n",
       "top     Products/Furniture/Beds  PLATSA  IKEA of Sweden  No on the page   \n",
       "freq                        106      28              19               6   \n",
       "\n",
       "               SKU  \n",
       "count          300  \n",
       "unique         186  \n",
       "top     102.092.02  \n",
       "freq             4  "
      ]
     },
     "execution_count": 20,
     "metadata": {},
     "output_type": "execute_result"
    }
   ],
   "source": [
    "df.describe(include=['object'])"
   ]
  },
  {
   "cell_type": "code",
   "execution_count": 21,
   "metadata": {},
   "outputs": [
    {
     "data": {
      "text/plain": [
       "count                300\n",
       "unique               101\n",
       "top       IKEA of Sweden\n",
       "freq                  19\n",
       "Name: Description, dtype: object"
      ]
     },
     "execution_count": 21,
     "metadata": {},
     "output_type": "execute_result"
    }
   ],
   "source": [
    "df['Description'].describe()"
   ]
  },
  {
   "cell_type": "code",
   "execution_count": 22,
   "metadata": {},
   "outputs": [
    {
     "data": {
      "text/plain": [
       "count                300\n",
       "unique               150\n",
       "top       No on the page\n",
       "freq                   6\n",
       "Name: Measurement, dtype: object"
      ]
     },
     "execution_count": 22,
     "metadata": {},
     "output_type": "execute_result"
    }
   ],
   "source": [
    "df['Measurement'].describe()"
   ]
  },
  {
   "cell_type": "code",
   "execution_count": 23,
   "metadata": {},
   "outputs": [
    {
     "data": {
      "image/png": "[encoded data removed]",
      "text/plain": [
       "<Figure size 1080x504 with 1 Axes>"
      ]
     },
     "metadata": {
      "needs_background": "light"
     },
     "output_type": "display_data"
    }
   ],
   "source": [
    "df=pd.read_csv(\"final_output.csv\")\n",
    "category1 = []\n",
    "\n",
    "for value in df.Category:\n",
    "    if str(value).__contains__(\"Beds\") or str(value).__contains__(\"beds\"):\n",
    "        category1.append(\"Products/Furniture/Beds\")\n",
    "    elif str(value).__contains__(\"Products/Storage\"):\n",
    "        category1.append(\"Products/Storage & organisation/Wardrobes\")\n",
    "    elif str(value).__contains__(\"Chairs\") or str(value).__contains__(\"chairs\"):\n",
    "        category1.append(\"Products/Furniture/Chairs\")\n",
    "\n",
    "df.Category = category1\n",
    "Price = df.Price\n",
    "f, ax = plot.subplots(figsize=(15,7))\n",
    "plot.bar(category1, price)\n",
    "plot.title('Relationship between Category and Price', fontsize=10)\n",
    "plot.xlabel('category', fontsize=10)\n",
    "plot.ylabel('price', fontsize=10)\n",
    "plot.grid(True)\n",
    "plot.show()"
   ]
  },
  {
   "cell_type": "code",
   "execution_count": null,
   "metadata": {},
   "outputs": [],
   "source": []
  }
 ],
 "metadata": {
  "kernelspec": {
   "display_name": "Python 3",
   "language": "python",
   "name": "python3"
  },
  "language_info": {
   "codemirror_mode": {
    "name": "ipython",
    "version": 3
   },
   "file_extension": ".py",
   "mimetype": "text/x-python",
   "name": "python",
   "nbconvert_exporter": "python",
   "pygments_lexer": "ipython3",
   "version": "3.8.3"
  }
 },
 "nbformat": 4,
 "nbformat_minor": 4
}
